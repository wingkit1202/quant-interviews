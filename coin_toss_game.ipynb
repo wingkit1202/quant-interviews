{
 "cells": [
  {
   "cell_type": "code",
   "execution_count": 1,
   "id": "1ccaf616-bcde-4944-8d37-5bfe93fff50a",
   "metadata": {},
   "outputs": [],
   "source": [
    "import numpy as np"
   ]
  },
  {
   "cell_type": "markdown",
   "id": "8f2f8a2c-a57d-4f1d-a29b-2e1818a3e83b",
   "metadata": {},
   "source": [
    "Two gamblers are playing a coin toss game. Gambler A has (n+1) fair coins; B has n fair coins. What is the probability that A will have more heads than B if both flip all their coins?"
   ]
  },
  {
   "cell_type": "markdown",
   "id": "fbdf6ed8-5f96-4b14-92ce-c230037a163d",
   "metadata": {},
   "source": [
    "## Simulation"
   ]
  },
  {
   "cell_type": "code",
   "execution_count": 4,
   "id": "6ba0c367-11f4-4080-99f8-15c34e475dec",
   "metadata": {},
   "outputs": [],
   "source": [
    "def simulate_coin_toss_game(n = 1000) -> bool:\n",
    "    A = np.sum(np.random.random(n + 1) > 0.5)\n",
    "    B = np.sum(np.random.random(n) > 0.5)\n",
    "    return A > B"
   ]
  },
  {
   "cell_type": "code",
   "execution_count": 5,
   "id": "d8f7674b-e9c2-4ce8-8e28-e02fff258143",
   "metadata": {},
   "outputs": [
    {
     "name": "stdout",
     "output_type": "stream",
     "text": [
      "Estimated probability for n = 10: 0.5026\n",
      "Estimated probability for n = 50: 0.5071\n",
      "Estimated probability for n = 100: 0.5009\n",
      "Estimated probability for n = 500: 0.5009\n"
     ]
    }
   ],
   "source": [
    "# Run multiple simulations\n",
    "n_simulations = 10000\n",
    "for n in [10, 50, 100, 500]:\n",
    "    results = [simulate_coin_toss_game(n) for _ in range(n_simulations)]\n",
    "    p = np.mean(results)\n",
    "    print(f'Estimated probability for n = {n}: {p}')"
   ]
  },
  {
   "cell_type": "markdown",
   "id": "36388745-50e8-48ef-9797-e92f2d77476d",
   "metadata": {},
   "source": [
    "They are all very near to 0.5 ... but why?"
   ]
  },
  {
   "cell_type": "markdown",
   "id": "01f79e3f-db06-432e-8a6e-77eb066937cb",
   "metadata": {},
   "source": [
    "## Solution"
   ]
  },
  {
   "cell_type": "markdown",
   "id": "d8baeebd-6eb0-4978-a278-904c9ffde5bc",
   "metadata": {},
   "source": [
    "Consider the first n flips. There are only three possibilities:\n",
    "1. $\\mu_A > \\mu_B$\n",
    "2. $\\mu_A = \\mu_B$\n",
    "3. $\\mu_A < \\mu_B$\n",
    "\n",
    "By symmetry, the probabilities of 1 and 3 are equal. Denote it as $p$.\n",
    "The probability of 2 is therefore $1 - 2p$.\n",
    "\n",
    "Now under 2, the (n+1)-th flip of A becomes important. This requires one additional head, which has a probability of $\\frac{1}{2}$.\n",
    "\n",
    "So the total probability is: $p + (1-2p)\\frac{1}{2} = \\frac{1}{2}$"
   ]
  },
  {
   "cell_type": "markdown",
   "id": "1efc0054-5c5f-492a-90ee-c07c815213d6",
   "metadata": {},
   "source": [
    "## Extenson"
   ]
  },
  {
   "cell_type": "markdown",
   "id": "0c9a8544-c920-4f33-a859-1bf9100c7af1",
   "metadata": {},
   "source": [
    "What if A has n coins only?"
   ]
  },
  {
   "cell_type": "code",
   "execution_count": 11,
   "id": "8dc02fdf-b3b7-4050-8f99-fed374b6d374",
   "metadata": {},
   "outputs": [],
   "source": [
    "def simulate_coin_toss_game_v2(n = 100) -> bool:\n",
    "    A = np.sum(np.random.random(n) > 0.5)\n",
    "    B = np.sum(np.random.random(n) > 0.5)\n",
    "    return A > B"
   ]
  },
  {
   "cell_type": "code",
   "execution_count": 12,
   "id": "bedf3a57-696d-4f49-be24-085cd1809a9e",
   "metadata": {},
   "outputs": [
    {
     "name": "stdout",
     "output_type": "stream",
     "text": [
      "Estimated probability for n = 10: 0.4206\n",
      "Estimated probability for n = 50: 0.4533\n",
      "Estimated probability for n = 100: 0.4749\n",
      "Estimated probability for n = 500: 0.4912\n"
     ]
    }
   ],
   "source": [
    "# Run multiple simulations\n",
    "n_simulations = 10000\n",
    "for n in [10, 50, 100, 500]:\n",
    "    results = [simulate_coin_toss_game_v2(n) for _ in range(n_simulations)]\n",
    "    p = np.mean(results)\n",
    "    print(f'Estimated probability for n = {n}: {p}')"
   ]
  },
  {
   "cell_type": "markdown",
   "id": "1f88a023-b935-4640-84cb-ec09d110413a",
   "metadata": {},
   "source": [
    "It is noted that the probability is not 0.5 over all n's."
   ]
  },
  {
   "cell_type": "markdown",
   "id": "e953f9f0-28b9-4f9c-b6df-37d68981019f",
   "metadata": {},
   "source": [
    "# Solution (Extension)"
   ]
  },
  {
   "cell_type": "markdown",
   "id": "f6c05340-623d-4d7c-953d-5f2de33b8a00",
   "metadata": {},
   "source": [
    "Actually we can follow the same way of thinking in the original question - just need to provide an explicit expression for $p$"
   ]
  },
  {
   "cell_type": "markdown",
   "id": "ee99a365-ac18-4795-9004-29ab83b73e03",
   "metadata": {},
   "source": [
    "$p = P(\\mu_A = \\mu_B) = \\sum_{k=0}^n ({n \\choose k} (\\frac{1}{2})^n)^2 = (\\frac{1}{2})^{2n} \\sum_{k=0}^n {n \\choose k}^2$"
   ]
  },
  {
   "cell_type": "markdown",
   "id": "e94eddc6-4419-498f-9c52-238b02b28627",
   "metadata": {},
   "source": [
    "By considering the coefficient of $x^n$ in $(1+x)^n (1+x)^n = (1+x)^{2n}$, we have: $\\sum_{k=0}^n {n \\choose k}^2 = {2n \\choose n}$"
   ]
  },
  {
   "cell_type": "markdown",
   "id": "bc054b73-69e9-4740-a6f4-46d718a5e19f",
   "metadata": {},
   "source": [
    "so the desired probability is: $\\frac{1-(\\frac{1}{2})^{2n} {2n \\choose n}}{2}$"
   ]
  },
  {
   "cell_type": "code",
   "execution_count": 19,
   "id": "9db23a53-4e9f-432d-a99c-63bc01d1ffc2",
   "metadata": {},
   "outputs": [],
   "source": [
    "import math\n",
    "\n",
    "def true_probability(n = 100) -> float:\n",
    "    return np.exp(np.log(4.0**n - math.comb(2*n, n)) - (2*n+1) * np.log(2.0))"
   ]
  },
  {
   "cell_type": "code",
   "execution_count": 20,
   "id": "28578938-3807-464f-858c-3724fa14fbe5",
   "metadata": {},
   "outputs": [
    {
     "name": "stdout",
     "output_type": "stream",
     "text": [
      "True probability for n = 10: 0.41190147399902355\n",
      "True probability for n = 50: 0.4602053813064099\n",
      "True probability for n = 100: 0.47182576049537545\n",
      "True probability for n = 500: 0.48738749091082584\n"
     ]
    }
   ],
   "source": [
    "for n in [10, 50, 100, 500]:\n",
    "    print(f'True probability for n = {n}: {true_probability(n)}')"
   ]
  },
  {
   "cell_type": "code",
   "execution_count": null,
   "id": "4ce5a26c-c5ed-4f91-af8a-bf07ddef5b76",
   "metadata": {},
   "outputs": [],
   "source": []
  }
 ],
 "metadata": {
  "kernelspec": {
   "display_name": "Python 3 (ipykernel)",
   "language": "python",
   "name": "python3"
  },
  "language_info": {
   "codemirror_mode": {
    "name": "ipython",
    "version": 3
   },
   "file_extension": ".py",
   "mimetype": "text/x-python",
   "name": "python",
   "nbconvert_exporter": "python",
   "pygments_lexer": "ipython3",
   "version": "3.12.4"
  }
 },
 "nbformat": 4,
 "nbformat_minor": 5
}
