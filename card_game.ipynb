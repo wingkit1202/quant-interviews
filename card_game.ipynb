{
 "cells": [
  {
   "cell_type": "markdown",
   "id": "e379697c-33b4-4448-bc39-650d78fbf02e",
   "metadata": {},
   "source": [
    "A casino offers a simple card game. There are 52 cards in a deck with 4 cards for each value 2,3,4,5,6,7,8,9,J,Q,K,A. Each time the cards are thoroughly shuffled. You pick up a card from the deck, and the dealer picks another one without replacement. If you have a larger number, you win; otherwise, the house wins. What is your probability of winning?"
   ]
  },
  {
   "cell_type": "code",
   "execution_count": 2,
   "id": "c949cd4e-75ec-49d3-9e1a-f1df4432e009",
   "metadata": {},
   "outputs": [],
   "source": [
    "import random"
   ]
  },
  {
   "cell_type": "markdown",
   "id": "f63b24c4-330b-47a2-a14a-78f8d3ca8147",
   "metadata": {},
   "source": [
    "## Simulation"
   ]
  },
  {
   "cell_type": "code",
   "execution_count": 4,
   "id": "8dcd1290-7de0-4341-bda3-df89a66d138d",
   "metadata": {},
   "outputs": [],
   "source": [
    "def simulate_card_game() -> int:\n",
    "    cards = [2, 3, 4, 5, 6, 7, 8, 9, 10, 'J', 'Q', 'K', 'A']\n",
    "\n",
    "    deck = []\n",
    "    for card in cards:\n",
    "        deck.extend([card] * 4)\n",
    "\n",
    "    # you pick a card\n",
    "    your_card = random.choice(deck)\n",
    "    your_card_index = cards.index(your_card)\n",
    "\n",
    "    # the dealer picks a card without replacement\n",
    "    deck.remove(your_card)\n",
    "    dealer_card = random.choice(deck)\n",
    "    dealer_card_index = cards.index(dealer_card)\n",
    "\n",
    "    # compare\n",
    "    if your_card_index > dealer_card_index:\n",
    "        return 1\n",
    "    else:\n",
    "        return 0"
   ]
  },
  {
   "cell_type": "code",
   "execution_count": 5,
   "id": "426b8dc3-5007-424e-a8ee-3815d739631b",
   "metadata": {},
   "outputs": [
    {
     "name": "stdout",
     "output_type": "stream",
     "text": [
      "The expected probability of winning is: 0.47182\n"
     ]
    }
   ],
   "source": [
    "n_simulations = 100000\n",
    "win_count = 0\n",
    "for _ in range(n_simulations):\n",
    "    win_count += simulate_card_game()\n",
    "p = win_count / n_simulations\n",
    "print(f'The expected probability of winning is: {p}')"
   ]
  },
  {
   "cell_type": "markdown",
   "id": "fedb4360-1b87-4c47-b002-c411391560de",
   "metadata": {},
   "source": [
    "## Solution"
   ]
  },
  {
   "cell_type": "markdown",
   "id": "76bbfb4f-71f3-41d7-8391-2665ab63dfb1",
   "metadata": {},
   "source": [
    "There are three possiblities:\n",
    "1. Your card is larger than the dealer's\n",
    "2. Your card is the same as the dealer's\n",
    "3. Your card is smaller than the dealer's\n",
    "\n",
    "Obviously the probability of event 1 is the same as that of probability 3. Denote this probability as p.\n",
    "\n",
    "$2p + \\frac{3}{51} = 1 \\Rightarrow p = \\frac{8}{17}$"
   ]
  },
  {
   "cell_type": "code",
   "execution_count": 8,
   "id": "c529eb6b-cbc1-4bf0-a764-f3ca15ccca96",
   "metadata": {},
   "outputs": [
    {
     "data": {
      "text/plain": [
       "0.47058823529411764"
      ]
     },
     "execution_count": 8,
     "metadata": {},
     "output_type": "execute_result"
    }
   ],
   "source": [
    "(1 - 3/51) / 2"
   ]
  },
  {
   "cell_type": "code",
   "execution_count": null,
   "id": "a9a3107b-8af2-45fd-9a42-42a33a0f3859",
   "metadata": {},
   "outputs": [],
   "source": []
  }
 ],
 "metadata": {
  "kernelspec": {
   "display_name": "Python 3 (ipykernel)",
   "language": "python",
   "name": "python3"
  },
  "language_info": {
   "codemirror_mode": {
    "name": "ipython",
    "version": 3
   },
   "file_extension": ".py",
   "mimetype": "text/x-python",
   "name": "python",
   "nbconvert_exporter": "python",
   "pygments_lexer": "ipython3",
   "version": "3.12.4"
  }
 },
 "nbformat": 4,
 "nbformat_minor": 5
}
